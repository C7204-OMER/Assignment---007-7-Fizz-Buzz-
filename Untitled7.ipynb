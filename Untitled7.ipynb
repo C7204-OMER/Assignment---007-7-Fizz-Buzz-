{
  "nbformat": 4,
  "nbformat_minor": 0,
  "metadata": {
    "colab": {
      "name": "Untitled7.ipynb",
      "provenance": [],
      "authorship_tag": "ABX9TyMoAgKY6RWTqdcq+eqSxNpf",
      "include_colab_link": true
    },
    "kernelspec": {
      "name": "python3",
      "display_name": "Python 3"
    }
  },
  "cells": [
    {
      "cell_type": "markdown",
      "metadata": {
        "id": "view-in-github",
        "colab_type": "text"
      },
      "source": [
        "<a href=\"https://colab.research.google.com/github/C7204-OMER/Assignment---007-7-Fizz-Buzz-/blob/main/Untitled7.ipynb\" target=\"_parent\"><img src=\"https://colab.research.google.com/assets/colab-badge.svg\" alt=\"Open In Colab\"/></a>"
      ]
    },
    {
      "cell_type": "code",
      "metadata": {
        "id": "HajJlCGzPA26"
      },
      "source": [
        "numbers = range(1,101)\r\n",
        "\r\n",
        "for i in numbers:\r\n",
        "  if i % 15 == 0:\r\n",
        "    print(\"FizzBuzz\")                         ####  Fizz  Buzz  ####\r\n",
        "  elif i % 5 == 0:\r\n",
        "    print(\"Buzz\")\r\n",
        "  elif i % 3 == 0:\r\n",
        "    print(\"Fizz\")\r\n",
        "  else:\r\n",
        "    print(i)"
      ],
      "execution_count": null,
      "outputs": []
    }
  ]
}